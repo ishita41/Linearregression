{
  "nbformat": 4,
  "nbformat_minor": 0,
  "metadata": {
    "colab": {
      "provenance": []
    },
    "kernelspec": {
      "name": "python3",
      "display_name": "Python 3"
    },
    "language_info": {
      "name": "python"
    }
  },
  "cells": [
    {
      "cell_type": "code",
      "execution_count": null,
      "metadata": {
        "id": "q5kDSNnlNFpM"
      },
      "outputs": [],
      "source": [
        "# import the libraries\n",
        "import numpy as np\n",
        "import pandas as pd\n",
        "import matplotlib.pyplot as plt\n"
      ]
    },
    {
      "cell_type": "code",
      "source": [
        "# data prepration and data loading\n",
        "dfx=pd.read_csv('/content/linearX.csv')\n",
        "dfy=pd.read_csv('/content/linearY.csv')\n",
        "x=dfx.values\n",
        "y=dfy.values\n",
        "print(x.shape)\n",
        "print(y.shape)"
      ],
      "metadata": {
        "colab": {
          "base_uri": "https://localhost:8080/"
        },
        "id": "MJ46eGwcORJ7",
        "outputId": "3933ed1b-5b24-4e6d-be83-eec4338ccd2d"
      },
      "execution_count": null,
      "outputs": [
        {
          "output_type": "stream",
          "name": "stdout",
          "text": [
            "(99, 1)\n",
            "(99, 1)\n"
          ]
        }
      ]
    },
    {
      "cell_type": "code",
      "source": [
        "print(x)"
      ],
      "metadata": {
        "colab": {
          "base_uri": "https://localhost:8080/"
        },
        "id": "p-dNbCrdPlRh",
        "outputId": "f201c921-0caf-4cbb-a71d-b42c4cb391b4"
      },
      "execution_count": null,
      "outputs": [
        {
          "output_type": "stream",
          "name": "stdout",
          "text": [
            "[[ 8. ]\n",
            " [ 9.1]\n",
            " [ 8.4]\n",
            " [ 6.9]\n",
            " [ 7.7]\n",
            " [15.6]\n",
            " [ 7.3]\n",
            " [ 7. ]\n",
            " [ 7.2]\n",
            " [10.1]\n",
            " [11.5]\n",
            " [ 7.1]\n",
            " [10. ]\n",
            " [ 8.9]\n",
            " [ 7.9]\n",
            " [ 5.6]\n",
            " [ 6.3]\n",
            " [ 6.7]\n",
            " [10.4]\n",
            " [ 8.5]\n",
            " [ 7.4]\n",
            " [ 6.3]\n",
            " [ 5.4]\n",
            " [ 8.9]\n",
            " [ 9.4]\n",
            " [ 7.5]\n",
            " [11.9]\n",
            " [ 7.8]\n",
            " [ 7.4]\n",
            " [10.8]\n",
            " [10.2]\n",
            " [ 6.2]\n",
            " [ 7.7]\n",
            " [13.7]\n",
            " [ 8. ]\n",
            " [ 6.7]\n",
            " [ 6.7]\n",
            " [ 7. ]\n",
            " [ 8.3]\n",
            " [ 7.4]\n",
            " [ 9.9]\n",
            " [ 6.1]\n",
            " [ 7. ]\n",
            " [ 5.4]\n",
            " [10.7]\n",
            " [ 7.6]\n",
            " [ 8.9]\n",
            " [ 9.2]\n",
            " [ 6.6]\n",
            " [ 7.2]\n",
            " [ 8. ]\n",
            " [ 7.8]\n",
            " [ 7.9]\n",
            " [ 7. ]\n",
            " [ 7. ]\n",
            " [ 7.6]\n",
            " [ 9.1]\n",
            " [ 9. ]\n",
            " [ 7.9]\n",
            " [ 6.6]\n",
            " [11.9]\n",
            " [ 6.5]\n",
            " [ 7.1]\n",
            " [ 8.8]\n",
            " [ 7.5]\n",
            " [ 7.7]\n",
            " [ 6. ]\n",
            " [10.6]\n",
            " [ 6.6]\n",
            " [ 8.2]\n",
            " [ 7.9]\n",
            " [ 7.1]\n",
            " [ 5.6]\n",
            " [ 6.4]\n",
            " [ 7.5]\n",
            " [ 9.8]\n",
            " [ 7. ]\n",
            " [10.5]\n",
            " [ 7.1]\n",
            " [ 6.2]\n",
            " [ 6.5]\n",
            " [ 7.7]\n",
            " [ 7.2]\n",
            " [ 9.3]\n",
            " [ 8.5]\n",
            " [ 7.7]\n",
            " [ 6.8]\n",
            " [ 7.8]\n",
            " [ 8.7]\n",
            " [ 9.6]\n",
            " [ 7.2]\n",
            " [ 9.3]\n",
            " [ 8.1]\n",
            " [ 6.6]\n",
            " [ 7.8]\n",
            " [10.2]\n",
            " [ 6.1]\n",
            " [ 7.3]\n",
            " [ 7.3]]\n"
          ]
        }
      ]
    },
    {
      "cell_type": "code",
      "source": [
        "x=x.reshape((-1,1))\n",
        "y=y.reshape((-1,1))\n",
        "print(x)"
      ],
      "metadata": {
        "colab": {
          "base_uri": "https://localhost:8080/"
        },
        "id": "2ZXdqeXcQsiT",
        "outputId": "b5d9180f-9917-48f0-f8dc-0a993f5bb7b0"
      },
      "execution_count": null,
      "outputs": [
        {
          "output_type": "stream",
          "name": "stdout",
          "text": [
            "[[ 8. ]\n",
            " [ 9.1]\n",
            " [ 8.4]\n",
            " [ 6.9]\n",
            " [ 7.7]\n",
            " [15.6]\n",
            " [ 7.3]\n",
            " [ 7. ]\n",
            " [ 7.2]\n",
            " [10.1]\n",
            " [11.5]\n",
            " [ 7.1]\n",
            " [10. ]\n",
            " [ 8.9]\n",
            " [ 7.9]\n",
            " [ 5.6]\n",
            " [ 6.3]\n",
            " [ 6.7]\n",
            " [10.4]\n",
            " [ 8.5]\n",
            " [ 7.4]\n",
            " [ 6.3]\n",
            " [ 5.4]\n",
            " [ 8.9]\n",
            " [ 9.4]\n",
            " [ 7.5]\n",
            " [11.9]\n",
            " [ 7.8]\n",
            " [ 7.4]\n",
            " [10.8]\n",
            " [10.2]\n",
            " [ 6.2]\n",
            " [ 7.7]\n",
            " [13.7]\n",
            " [ 8. ]\n",
            " [ 6.7]\n",
            " [ 6.7]\n",
            " [ 7. ]\n",
            " [ 8.3]\n",
            " [ 7.4]\n",
            " [ 9.9]\n",
            " [ 6.1]\n",
            " [ 7. ]\n",
            " [ 5.4]\n",
            " [10.7]\n",
            " [ 7.6]\n",
            " [ 8.9]\n",
            " [ 9.2]\n",
            " [ 6.6]\n",
            " [ 7.2]\n",
            " [ 8. ]\n",
            " [ 7.8]\n",
            " [ 7.9]\n",
            " [ 7. ]\n",
            " [ 7. ]\n",
            " [ 7.6]\n",
            " [ 9.1]\n",
            " [ 9. ]\n",
            " [ 7.9]\n",
            " [ 6.6]\n",
            " [11.9]\n",
            " [ 6.5]\n",
            " [ 7.1]\n",
            " [ 8.8]\n",
            " [ 7.5]\n",
            " [ 7.7]\n",
            " [ 6. ]\n",
            " [10.6]\n",
            " [ 6.6]\n",
            " [ 8.2]\n",
            " [ 7.9]\n",
            " [ 7.1]\n",
            " [ 5.6]\n",
            " [ 6.4]\n",
            " [ 7.5]\n",
            " [ 9.8]\n",
            " [ 7. ]\n",
            " [10.5]\n",
            " [ 7.1]\n",
            " [ 6.2]\n",
            " [ 6.5]\n",
            " [ 7.7]\n",
            " [ 7.2]\n",
            " [ 9.3]\n",
            " [ 8.5]\n",
            " [ 7.7]\n",
            " [ 6.8]\n",
            " [ 7.8]\n",
            " [ 8.7]\n",
            " [ 9.6]\n",
            " [ 7.2]\n",
            " [ 9.3]\n",
            " [ 8.1]\n",
            " [ 6.6]\n",
            " [ 7.8]\n",
            " [10.2]\n",
            " [ 6.1]\n",
            " [ 7.3]\n",
            " [ 7.3]]\n"
          ]
        }
      ]
    },
    {
      "cell_type": "code",
      "source": [
        "print(y,type(y))"
      ],
      "metadata": {
        "colab": {
          "base_uri": "https://localhost:8080/"
        },
        "id": "MycR55DoRTil",
        "outputId": "591a7a64-7e31-4086-8631-515eb1264ca7"
      },
      "execution_count": null,
      "outputs": [
        {
          "output_type": "stream",
          "name": "stdout",
          "text": [
            "[0.99007 0.99769 0.99386 0.99508 0.9963  1.0032  0.99768 0.99584 0.99609\n",
            " 0.99774 1.0003  0.99694 0.99965 0.99549 0.99364 0.99378 0.99379 0.99524\n",
            " 0.9988  0.99733 0.9966  0.9955  0.99471 0.99354 0.99786 0.9965  0.9988\n",
            " 0.9964  0.99713 0.9985  0.99565 0.99578 0.9976  1.0014  0.99685 0.99648\n",
            " 0.99472 0.99914 0.99408 0.9974  1.0002  0.99402 0.9966  0.99402 1.0029\n",
            " 0.99718 0.9986  0.9952  0.9952  0.9972  0.9976  0.9968  0.9978  0.9951\n",
            " 0.99629 0.99656 0.999   0.99836 0.99396 0.99387 1.0004  0.9972  0.9972\n",
            " 0.99546 0.9978  0.99596 0.99572 0.9992  0.99544 0.99747 0.99668 0.9962\n",
            " 0.99346 0.99514 0.99476 1.001   0.9961  0.99598 0.99608 0.9966  0.99732\n",
            " 0.9962  0.99546 0.99738 0.99456 0.9966  0.99553 0.9984  0.9952  0.997\n",
            " 0.99586 0.9984  0.99542 0.99655 0.9962  0.9976  0.99464 0.9983  0.9967 ] <class 'numpy.ndarray'>\n"
          ]
        }
      ]
    },
    {
      "cell_type": "code",
      "source": [
        "#ploting\n",
        "plt.scatter(x,y,color='pink')"
      ],
      "metadata": {
        "colab": {
          "base_uri": "https://localhost:8080/",
          "height": 447
        },
        "id": "CvBZX5v4RXTi",
        "outputId": "d2fd7b84-a5a6-4e0f-f55e-48a482cc67f7"
      },
      "execution_count": null,
      "outputs": [
        {
          "output_type": "execute_result",
          "data": {
            "text/plain": [
              "<matplotlib.collections.PathCollection at 0x79870318f8e0>"
            ]
          },
          "metadata": {},
          "execution_count": 11
        },
        {
          "output_type": "display_data",
          "data": {
            "text/plain": [
              "<Figure size 640x480 with 1 Axes>"
            ],
            "image/png": "[encoded data removed]"
          },
          "metadata": {}
        }
      ]
    },
    {
      "cell_type": "code",
      "source": [
        "# is a libraray sklearn.liner_model\n",
        "\n",
        "from sklearn.linear_model import LinearRegression\n",
        "model = LinearRegression()\n",
        "\n",
        "\n",
        "#traning\n",
        "model.fit(x, y)"
      ],
      "metadata": {
        "colab": {
          "base_uri": "https://localhost:8080/",
          "height": 74
        },
        "id": "Me0voYnjRq1F",
        "outputId": "79479d54-f8ef-4ac3-a7ef-5afaf7d29637"
      },
      "execution_count": null,
      "outputs": [
        {
          "output_type": "execute_result",
          "data": {
            "text/plain": [
              "LinearRegression()"
            ],
            "text/html": [
              "<style>#sk-container-id-1 {color: black;background-color: white;}#sk-container-id-1 pre{padding: 0;}#sk-container-id-1 div.sk-toggleable {background-color: white;}#sk-container-id-1 label.sk-toggleable__label {cursor: pointer;display: block;width: 100%;margin-bottom: 0;padding: 0.3em;box-sizing: border-box;text-align: center;}#sk-container-id-1 label.sk-toggleable__label-arrow:before {content: \"▸\";float: left;margin-right: 0.25em;color: #696969;}#sk-container-id-1 label.sk-toggleable__label-arrow:hover:before {color: black;}#sk-container-id-1 div.sk-estimator:hover label.sk-toggleable__label-arrow:before {color: black;}#sk-container-id-1 div.sk-toggleable__content {max-height: 0;max-width: 0;overflow: hidden;text-align: left;background-color: #f0f8ff;}#sk-container-id-1 div.sk-toggleable__content pre {margin: 0.2em;color: black;border-radius: 0.25em;background-color: #f0f8ff;}#sk-container-id-1 input.sk-toggleable__control:checked~div.sk-toggleable__content {max-height: 200px;max-width: 100%;overflow: auto;}#sk-container-id-1 input.sk-toggleable__control:checked~label.sk-toggleable__label-arrow:before {content: \"▾\";}#sk-container-id-1 div.sk-estimator input.sk-toggleable__control:checked~label.sk-toggleable__label {background-color: #d4ebff;}#sk-container-id-1 div.sk-label input.sk-toggleable__control:checked~label.sk-toggleable__label {background-color: #d4ebff;}#sk-container-id-1 input.sk-hidden--visually {border: 0;clip: rect(1px 1px 1px 1px);clip: rect(1px, 1px, 1px, 1px);height: 1px;margin: -1px;overflow: hidden;padding: 0;position: absolute;width: 1px;}#sk-container-id-1 div.sk-estimator {font-family: monospace;background-color: #f0f8ff;border: 1px dotted black;border-radius: 0.25em;box-sizing: border-box;margin-bottom: 0.5em;}#sk-container-id-1 div.sk-estimator:hover {background-color: #d4ebff;}#sk-container-id-1 div.sk-parallel-item::after {content: \"\";width: 100%;border-bottom: 1px solid gray;flex-grow: 1;}#sk-container-id-1 div.sk-label:hover label.sk-toggleable__label {background-color: #d4ebff;}#sk-container-id-1 div.sk-serial::before {content: \"\";position: absolute;border-left: 1px solid gray;box-sizing: border-box;top: 0;bottom: 0;left: 50%;z-index: 0;}#sk-container-id-1 div.sk-serial {display: flex;flex-direction: column;align-items: center;background-color: white;padding-right: 0.2em;padding-left: 0.2em;position: relative;}#sk-container-id-1 div.sk-item {position: relative;z-index: 1;}#sk-container-id-1 div.sk-parallel {display: flex;align-items: stretch;justify-content: center;background-color: white;position: relative;}#sk-container-id-1 div.sk-item::before, #sk-container-id-1 div.sk-parallel-item::before {content: \"\";position: absolute;border-left: 1px solid gray;box-sizing: border-box;top: 0;bottom: 0;left: 50%;z-index: -1;}#sk-container-id-1 div.sk-parallel-item {display: flex;flex-direction: column;z-index: 1;position: relative;background-color: white;}#sk-container-id-1 div.sk-parallel-item:first-child::after {align-self: flex-end;width: 50%;}#sk-container-id-1 div.sk-parallel-item:last-child::after {align-self: flex-start;width: 50%;}#sk-container-id-1 div.sk-parallel-item:only-child::after {width: 0;}#sk-container-id-1 div.sk-dashed-wrapped {border: 1px dashed gray;margin: 0 0.4em 0.5em 0.4em;box-sizing: border-box;padding-bottom: 0.4em;background-color: white;}#sk-container-id-1 div.sk-label label {font-family: monospace;font-weight: bold;display: inline-block;line-height: 1.2em;}#sk-container-id-1 div.sk-label-container {text-align: center;}#sk-container-id-1 div.sk-container {/* jupyter's `normalize.less` sets `[hidden] { display: none; }` but bootstrap.min.css set `[hidden] { display: none !important; }` so we also need the `!important` here to be able to override the default hidden behavior on the sphinx rendered scikit-learn.org. See: https://github.com/scikit-learn/scikit-learn/issues/21755 */display: inline-block !important;position: relative;}#sk-container-id-1 div.sk-text-repr-fallback {display: none;}</style><div id=\"sk-container-id-1\" class=\"sk-top-container\"><div class=\"sk-text-repr-fallback\"><pre>LinearRegression()</pre><b>In a Jupyter environment, please rerun this cell to show the HTML representation or trust the notebook. <br />On GitHub, the HTML representation is unable to render, please try loading this page with nbviewer.org.</b></div><div class=\"sk-container\" hidden><div class=\"sk-item\"><div class=\"sk-estimator sk-toggleable\"><input class=\"sk-toggleable__control sk-hidden--visually\" id=\"sk-estimator-id-1\" type=\"checkbox\" checked><label for=\"sk-estimator-id-1\" class=\"sk-toggleable__label sk-toggleable__label-arrow\">LinearRegression</label><div class=\"sk-toggleable__content\"><pre>LinearRegression()</pre></div></div></div></div></div>"
            ]
          },
          "metadata": {},
          "execution_count": 16
        }
      ]
    },
    {
      "cell_type": "code",
      "source": [
        "\n",
        "output = model.predict(x)\n",
        "bias = model.intercept_ #intercept\n",
        "coeff = model.coef_  #theta\n",
        "print(bias)\n",
        "print(coeff)\n",
        "\n"
      ],
      "metadata": {
        "colab": {
          "base_uri": "https://localhost:8080/"
        },
        "id": "rmqU8sK_Sn_k",
        "outputId": "7b09be5b-9ddf-45ab-b395-10cfa79ce15c"
      },
      "execution_count": null,
      "outputs": [
        {
          "output_type": "stream",
          "name": "stdout",
          "text": [
            "[0.9903092]\n",
            "[[0.00078556]]\n"
          ]
        }
      ]
    },
    {
      "cell_type": "code",
      "source": [
        "model.score(x,y) #accuracy"
      ],
      "metadata": {
        "colab": {
          "base_uri": "https://localhost:8080/"
        },
        "id": "ufIgu--qSsH5",
        "outputId": "de51321f-45ea-49dc-c809-91c352c77cb0"
      },
      "execution_count": null,
      "outputs": [
        {
          "output_type": "execute_result",
          "data": {
            "text/plain": [
              "0.4381850455791936"
            ]
          },
          "metadata": {},
          "execution_count": 21
        }
      ]
    },
    {
      "cell_type": "code",
      "source": [
        "plt.scatter(x,y,label='data')\n",
        "plt.plot(x,output,color='orange',label='prediction')\n",
        "plt.legend()\n",
        "plt.show()"
      ],
      "metadata": {
        "colab": {
          "base_uri": "https://localhost:8080/",
          "height": 430
        },
        "id": "WYvY2bQxUfDM",
        "outputId": "508d9da7-b370-49c3-c8f1-7374fd29b0a2"
      },
      "execution_count": null,
      "outputs": [
        {
          "output_type": "display_data",
          "data": {
            "text/plain": [
              "<Figure size 640x480 with 1 Axes>"
            ],
            "image/png": "[encoded data removed]"
          },
          "metadata": {}
        }
      ]
    }
  ]
}